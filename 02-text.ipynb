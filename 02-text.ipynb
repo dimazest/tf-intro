{
 "cells": [
  {
   "cell_type": "code",
   "execution_count": 1,
   "metadata": {
    "autoscroll": "json-false",
    "collapsed": false,
    "ein.tags": [
     "worksheet-0"
    ],
    "slideshow": {
     "slide_type": "-"
    }
   },
   "outputs": [],
   "source": [
    "import os\n",
    "import collections\n",
    "import random\n",
    "import itertools\n",
    "import logging\n",
    "\n",
    "from datetime import datetime\n",
    "from contextlib import closing\n",
    "\n",
    "import nltk\n",
    "import numpy as np\n",
    "\n",
    "import tensorflow as tf\n",
    "from tensorflow.contrib.tensorboard.plugins import projector"
   ]
  },
  {
   "cell_type": "code",
   "execution_count": 2,
   "metadata": {
    "autoscroll": "json-false",
    "collapsed": false,
    "ein.tags": [
     "worksheet-0"
    ],
    "slideshow": {
     "slide_type": "-"
    }
   },
   "outputs": [],
   "source": [
    "def timestamp():\n",
    "    return datetime.now().isoformat()"
   ]
  },
  {
   "cell_type": "code",
   "execution_count": 3,
   "metadata": {
    "autoscroll": "json-false",
    "collapsed": false,
    "ein.tags": [
     "worksheet-0"
    ],
    "slideshow": {
     "slide_type": "-"
    }
   },
   "outputs": [],
   "source": [
    "logging.basicConfig(\n",
    "    filename='notebook.log',\n",
    "    level=logging.DEBUG,\n",
    "    format='%(asctime)-6s: %(name)s - %(levelname)s - %(message)s',\n",
    ")\n",
    "logger = logging.getLogger('02-text')"
   ]
  },
  {
   "cell_type": "markdown",
   "metadata": {
    "ein.tags": [
     "worksheet-0"
    ],
    "slideshow": {
     "slide_type": "-"
    }
   },
   "source": [
    "https://github.com/wangz10/UdacityDeepLearning/blob/master/5_word2vec.ipynb"
   ]
  },
  {
   "cell_type": "code",
   "execution_count": 4,
   "metadata": {
    "autoscroll": "json-false",
    "collapsed": false,
    "ein.tags": [
     "worksheet-0"
    ],
    "slideshow": {
     "slide_type": "-"
    }
   },
   "outputs": [
    {
     "name": "stdout",
     "output_type": "stream",
     "text": [
      "[nltk_data] Downloading package brown to /home/dnm11/nltk_data...\n",
      "[nltk_data]   Package brown is already up-to-date!\n"
     ]
    },
    {
     "data": {
      "text/plain": [
       "True"
      ]
     },
     "execution_count": 4,
     "metadata": {},
     "output_type": "execute_result"
    }
   ],
   "source": [
    "nltk.download('brown')"
   ]
  },
  {
   "cell_type": "code",
   "execution_count": 5,
   "metadata": {
    "collapsed": true
   },
   "outputs": [],
   "source": [
    "corpus = nltk.corpus.brown"
   ]
  },
  {
   "cell_type": "code",
   "execution_count": 6,
   "metadata": {
    "autoscroll": "json-false",
    "collapsed": false,
    "ein.tags": [
     "worksheet-0"
    ],
    "slideshow": {
     "slide_type": "-"
    }
   },
   "outputs": [
    {
     "data": {
      "text/plain": [
       "'Total words: 1161192, total sentences 57340'"
      ]
     },
     "execution_count": 6,
     "metadata": {},
     "output_type": "execute_result"
    }
   ],
   "source": [
    "'Total words: {}, total sentences {}'.format(len(corpus.words()), len(corpus.sents()))"
   ]
  },
  {
   "cell_type": "code",
   "execution_count": 7,
   "metadata": {
    "autoscroll": "json-false",
    "collapsed": false,
    "ein.tags": [
     "worksheet-0"
    ],
    "slideshow": {
     "slide_type": "-"
    }
   },
   "outputs": [],
   "source": [
    "vocab_processor = tf.contrib.learn.preprocessing.VocabularyProcessor(\n",
    "    max(len(s) for s in corpus.sents()),\n",
    "    tokenizer_fn=iter,\n",
    ")"
   ]
  },
  {
   "cell_type": "code",
   "execution_count": 8,
   "metadata": {
    "autoscroll": "json-false",
    "collapsed": false,
    "ein.tags": [
     "worksheet-0"
    ],
    "slideshow": {
     "slide_type": "-"
    }
   },
   "outputs": [],
   "source": [
    "def skip_grams(documents, samples_per_target):\n",
    "    \"\"\"Target-context pairs for SkipGram.\n",
    "\n",
    "    :param int samples_per_target: the number of contexts to be sampled at most for each target word.\n",
    "\n",
    "    Contexts are drawn from a whole document, in other words, the context window is equal to the document.\n",
    "\n",
    "    \"\"\"\n",
    "    for document in documents:\n",
    "        left = []\n",
    "        right = document\n",
    "\n",
    "        while right:\n",
    "            target, *right = right\n",
    "\n",
    "            context = [*left, *right]\n",
    "            if context:\n",
    "                sampled_contexts = random.sample(context, k=min(samples_per_target, len(context)))\n",
    "                for c in sampled_contexts:\n",
    "                    yield target, c\n",
    "\n",
    "            left.append(target)\n"
   ]
  },
  {
   "cell_type": "code",
   "execution_count": 9,
   "metadata": {
    "autoscroll": "json-false",
    "collapsed": false,
    "ein.tags": [
     "worksheet-0"
    ],
    "slideshow": {
     "slide_type": "-"
    }
   },
   "outputs": [
    {
     "data": {
      "text/plain": [
       "[('The', 'County'),\n",
       " ('The', 'Grand'),\n",
       " ('Fulton', 'Grand'),\n",
       " ('Fulton', 'primary'),\n",
       " ('County', 'Friday'),\n",
       " ('County', '.'),\n",
       " ('Grand', 'took'),\n",
       " ('Grand', \"Atlanta's\"),\n",
       " ('Jury', 'of'),\n",
       " ('Jury', 'any')]"
      ]
     },
     "execution_count": 9,
     "metadata": {},
     "output_type": "execute_result"
    }
   ],
   "source": [
    "random.seed(2)\n",
    "list(skip_grams(corpus.sents()[:1], samples_per_target=2))[:10]"
   ]
  },
  {
   "cell_type": "code",
   "execution_count": 10,
   "metadata": {
    "autoscroll": "json-false",
    "collapsed": false,
    "ein.tags": [
     "worksheet-0"
    ],
    "slideshow": {
     "slide_type": "-"
    }
   },
   "outputs": [],
   "source": [
    "def generate_batches(input_, vocabulary, batch_size=128):\n",
    "    input_ = iter(input_)\n",
    "\n",
    "    while True:\n",
    "        batch = itertools.islice(input_, batch_size)\n",
    "        \n",
    "        x = np.array([[vocabulary.vocabulary_.get(w) for w in pair] for pair in batch])\n",
    "\n",
    "        if len(x):\n",
    "            yield x\n",
    "        else:\n",
    "            break\n",
    "        "
   ]
  },
  {
   "cell_type": "code",
   "execution_count": 11,
   "metadata": {
    "autoscroll": "json-false",
    "collapsed": false,
    "ein.tags": [
     "worksheet-0"
    ],
    "slideshow": {
     "slide_type": "-"
    }
   },
   "outputs": [
    {
     "data": {
      "text/plain": [
       "array([[1, 2],\n",
       "       [1, 3],\n",
       "       [4, 3],\n",
       "       [4, 5],\n",
       "       [2, 6],\n",
       "       [2, 7]])"
      ]
     },
     "execution_count": 11,
     "metadata": {},
     "output_type": "execute_result"
    }
   ],
   "source": [
    "random.seed(2)\n",
    "next(generate_batches(skip_grams(corpus.sents()[:10], samples_per_target=2), batch_size=6, vocabulary=vocab_processor))"
   ]
  },
  {
   "cell_type": "code",
   "execution_count": 12,
   "metadata": {
    "collapsed": false
   },
   "outputs": [
    {
     "data": {
      "text/plain": [
       "56058"
      ]
     },
     "execution_count": 12,
     "metadata": {},
     "output_type": "execute_result"
    }
   ],
   "source": [
    "vocab_processor.fit(corpus.sents())\n",
    "len(vocab_processor.vocabulary_)"
   ]
  },
  {
   "cell_type": "code",
   "execution_count": 13,
   "metadata": {
    "autoscroll": "json-false",
    "collapsed": false,
    "ein.tags": [
     "worksheet-0"
    ],
    "slideshow": {
     "slide_type": "-"
    }
   },
   "outputs": [],
   "source": [
    "class Word2Vec:\n",
    "\n",
    "    def __init__(self, vocabulary_size, embedding_size=300, negative_samples=16):\n",
    "\n",
    "        self.embeddings = tf.Variable(tf.random_uniform([vocabulary_size, embedding_size], -1.0, 1.0), name='embeddings')\n",
    "\n",
    "        with tf.name_scope('input'):\n",
    "            self.batch_inputs = tf.placeholder(tf.int32, shape=None)\n",
    "            self.batch_labels = tf.placeholder(tf.int32, shape=[None, 1])\n",
    "\n",
    "            self.batch_embeddings = tf.nn.embedding_lookup(self.embeddings, self.batch_inputs, name='embeddings')\n",
    "\n",
    "        with tf.name_scope('NCE'):\n",
    "            self.nce_weights = tf.Variable(\n",
    "                tf.truncated_normal([vocabulary_size, embedding_size], stddev=1.0 / np.sqrt(embedding_size)),\n",
    "                name='weights',\n",
    "            )\n",
    "            self.nce_biases = tf.Variable(tf.zeros([vocabulary_size]), name='biases')\n",
    "\n",
    "            self.loss = tf.reduce_mean(\n",
    "                tf.nn.nce_loss(\n",
    "                    weights=self.nce_weights,\n",
    "                    biases=self.nce_biases,\n",
    "                    labels=self.batch_labels,\n",
    "                    inputs=self.batch_embeddings,\n",
    "                    num_sampled=negative_samples,\n",
    "                    num_classes=vocabulary_size,\n",
    "                ),\n",
    "                name='loss',\n",
    "            )\n",
    "\n",
    "            self.global_step = tf.Variable(1, name='global_step', trainable=False)\n",
    "            self.optimizer = tf.train.GradientDescentOptimizer(1.0).minimize(self.loss, name='loss', global_step=self.global_step)"
   ]
  },
  {
   "cell_type": "code",
   "execution_count": null,
   "metadata": {
    "autoscroll": "json-false",
    "collapsed": false,
    "ein.tags": [
     "worksheet-0"
    ],
    "scrolled": true,
    "slideshow": {
     "slide_type": "-"
    }
   },
   "outputs": [],
   "source": [
    "g = tf.Graph()\n",
    "ts = timestamp()\n",
    "log_dir = 'notebook_runs'\n",
    "metadata_path = os.path.join(log_dir, 'metadata.tsv')\n",
    "\n",
    "batch_size = 1024 * 10\n",
    "\n",
    "with open(metadata_path, 'w') as f:\n",
    "    for w in vocab_processor.vocabulary_._reverse_mapping:\n",
    "        print(w, file=f, end='\\n')\n",
    "\n",
    "with g.as_default():\n",
    "    w2v = Word2Vec(len(vocab_processor.vocabulary_), embedding_size=300)\n",
    "\n",
    "    init_op = tf.global_variables_initializer()\n",
    "\n",
    "    tf.summary.scalar(w2v.loss.op.name, w2v.loss)\n",
    "    summary_op = tf.summary.merge_all()\n",
    "\n",
    "    config = projector.ProjectorConfig()\n",
    "    projector_embedding = config.embeddings.add()\n",
    "    projector_embedding.tensor_name = w2v.embeddings.name\n",
    "    projector_embedding.metadata_path = metadata_path\n",
    "\n",
    "    saver = tf.train.Saver()\n",
    "\n",
    "with tf.Session(graph=g) as sess, \\\n",
    "     closing(tf.summary.FileWriter(os.path.join(log_dir, 'w2v-skipgram-{}'.format(ts)), sess.graph)) as train_summary_writer:\n",
    "\n",
    "    sess.run(init_op)\n",
    "    projector.visualize_embeddings(train_summary_writer, config)\n",
    "    \n",
    "    for epoch in range(20):\n",
    "        logger.info('Epoch: %s', epoch)\n",
    "\n",
    "        batches = generate_batches(\n",
    "            skip_grams(corpus.sents(), samples_per_target=16),\n",
    "            vocabulary=vocab_processor,\n",
    "            batch_size=batch_size,\n",
    "        )\n",
    "\n",
    "        for i, batch in enumerate(batches):\n",
    "            if len(batch) != batch_size:\n",
    "                logger.debug('The batch size of %s is smaller than expected %s.', len(batch), batch_size)\n",
    "\n",
    "            x = batch[:, 0]\n",
    "            y = batch[:, 1, np.newaxis]\n",
    "\n",
    "            _, summary, current_step = sess.run(\n",
    "                [w2v.optimizer, summary_op, w2v.global_step],\n",
    "                feed_dict={\n",
    "                    w2v.batch_inputs: x,\n",
    "                    w2v.batch_labels: y,\n",
    "                },\n",
    "            )\n",
    "            train_summary_writer.add_summary(summary, current_step)\n",
    "            \n",
    "            if current_step % 1000 == 0:\n",
    "                logger.info('Step: %s, saving the model', current_step)\n",
    "                saver.save(sess, os.path.join(log_dir, \"model.ckpt\"), current_step)"
   ]
  }
 ],
 "metadata": {
  "kernelspec": {
   "display_name": "Python 3",
   "language": "python",
   "name": "python3"
  },
  "language_info": {
   "codemirror_mode": {
    "name": "ipython",
    "version": 3
   },
   "file_extension": ".py",
   "mimetype": "text/x-python",
   "name": "python",
   "nbconvert_exporter": "python",
   "pygments_lexer": "ipython3",
   "version": "3.5.2"
  },
  "name": "02-text.ipynb"
 },
 "nbformat": 4,
 "nbformat_minor": 2
}
