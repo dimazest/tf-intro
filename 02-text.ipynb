{
 "cells": [
  {
   "cell_type": "code",
   "execution_count": 1,
   "metadata": {
    "collapsed": true
   },
   "outputs": [],
   "source": [
    "%matplotlib inline"
   ]
  },
  {
   "cell_type": "code",
   "execution_count": 2,
   "metadata": {
    "autoscroll": "json-false",
    "collapsed": false,
    "ein.tags": [
     "worksheet-0"
    ],
    "slideshow": {
     "slide_type": "-"
    }
   },
   "outputs": [],
   "source": [
    "import os\n",
    "import collections\n",
    "import random\n",
    "import itertools\n",
    "import logging\n",
    "import zipfile\n",
    "import gzip\n",
    "\n",
    "from datetime import datetime\n",
    "from contextlib import closing\n",
    "\n",
    "import nltk\n",
    "import numpy as np\n",
    "import pandas as pd\n",
    "import seaborn as sns\n",
    "import scipy as sp\n",
    "\n",
    "import tensorflow as tf\n",
    "from tensorflow.contrib.tensorboard.plugins import projector"
   ]
  },
  {
   "cell_type": "code",
   "execution_count": 3,
   "metadata": {
    "autoscroll": "json-false",
    "collapsed": false,
    "ein.tags": [
     "worksheet-0"
    ],
    "slideshow": {
     "slide_type": "-"
    }
   },
   "outputs": [],
   "source": [
    "def timestamp():\n",
    "    return datetime.now().isoformat()"
   ]
  },
  {
   "cell_type": "code",
   "execution_count": 4,
   "metadata": {
    "autoscroll": "json-false",
    "collapsed": false,
    "ein.tags": [
     "worksheet-0"
    ],
    "slideshow": {
     "slide_type": "-"
    }
   },
   "outputs": [],
   "source": [
    "logging.basicConfig(\n",
    "    filename='notebook.log',\n",
    "    level=logging.DEBUG,\n",
    "    format='%(asctime)-6s: %(name)s - %(levelname)s - %(message)s',\n",
    ")\n",
    "logger = logging.getLogger('02-text')"
   ]
  },
  {
   "cell_type": "markdown",
   "metadata": {
    "ein.tags": [
     "worksheet-0"
    ],
    "slideshow": {
     "slide_type": "-"
    }
   },
   "source": [
    "https://github.com/wangz10/UdacityDeepLearning/blob/master/5_word2vec.ipynb"
   ]
  },
  {
   "cell_type": "code",
   "execution_count": 5,
   "metadata": {
    "collapsed": false
   },
   "outputs": [],
   "source": [
    "def read_wackypedia():\n",
    "    files = [\n",
    "        '/home/dnm11/WaCky/wackypedia_en_indices/wackypedia_en1_indices.gz',\n",
    "        '/home/dnm11/WaCky/wackypedia_en_indices/wackypedia_en2_indices.gz',\n",
    "        '/home/dnm11/WaCky/wackypedia_en_indices/wackypedia_en3_indices.gz',\n",
    "        '/home/dnm11/WaCky/wackypedia_en_indices/wackypedia_en4_indices.gz',\n",
    "    ]\n",
    "    \n",
    "    for file_name in files:\n",
    "        with gzip.open(file_name, mode='rt') as f:\n",
    "            for line in f:\n",
    "                tokens = map(int, line.split())\n",
    "                tokens = filter(lambda t: t > 0, tokens)\n",
    "                \n",
    "                yield list(tokens)"
   ]
  },
  {
   "cell_type": "code",
   "execution_count": 6,
   "metadata": {
    "collapsed": false
   },
   "outputs": [
    {
     "data": {
      "text/plain": [
       "[60507, 3]"
      ]
     },
     "execution_count": 6,
     "metadata": {},
     "output_type": "execute_result"
    }
   ],
   "source": [
    "next(read_wackypedia())"
   ]
  },
  {
   "cell_type": "code",
   "execution_count": 14,
   "metadata": {
    "collapsed": true
   },
   "outputs": [],
   "source": [
    "vocabulary_size = 161048"
   ]
  },
  {
   "cell_type": "code",
   "execution_count": 7,
   "metadata": {
    "autoscroll": "json-false",
    "collapsed": false,
    "ein.tags": [
     "worksheet-0"
    ],
    "slideshow": {
     "slide_type": "-"
    }
   },
   "outputs": [],
   "source": [
    "def skip_grams(documents, samples_per_target):\n",
    "    for right in documents:\n",
    "        left = []\n",
    "        while left or right:\n",
    "            target, *right = right\n",
    "\n",
    "            context = [*left, *right]\n",
    "            if context:\n",
    "                sampled_contexts = random.sample(context, k=min(samples_per_target, len(context)))\n",
    "                for c in sampled_contexts:\n",
    "                    yield target, c\n",
    "\n",
    "            if not right:\n",
    "                break\n",
    "\n",
    "            left.append(target)"
   ]
  },
  {
   "cell_type": "code",
   "execution_count": 40,
   "metadata": {
    "autoscroll": "json-false",
    "collapsed": false,
    "ein.tags": [
     "worksheet-0"
    ],
    "slideshow": {
     "slide_type": "-"
    }
   },
   "outputs": [
    {
     "data": {
      "text/plain": [
       "[(60507, 3),\n",
       " (3, 60507),\n",
       " (60507, 356),\n",
       " (60507, 160),\n",
       " (11, 3980),\n",
       " (11, 3),\n",
       " (9, 2838),\n",
       " (9, 30),\n",
       " (356, 33),\n",
       " (356, 5)]"
      ]
     },
     "execution_count": 40,
     "metadata": {},
     "output_type": "execute_result"
    }
   ],
   "source": [
    "random.seed(2)\n",
    "list(skip_grams(itertools.islice(read_wackypedia(), 2), samples_per_target=2))[:10]"
   ]
  },
  {
   "cell_type": "code",
   "execution_count": 12,
   "metadata": {
    "autoscroll": "json-false",
    "collapsed": false,
    "ein.tags": [
     "worksheet-0"
    ],
    "slideshow": {
     "slide_type": "-"
    }
   },
   "outputs": [],
   "source": [
    "def generate_batches(input_, batch_size=128):\n",
    "    input_ = iter(input_)\n",
    "\n",
    "    while True:\n",
    "        batch = list(itertools.islice(input_, batch_size))\n",
    "        \n",
    "        x = np.array(batch)\n",
    "\n",
    "        if len(x):\n",
    "            yield x\n",
    "        else:\n",
    "            break\n",
    "        "
   ]
  },
  {
   "cell_type": "code",
   "execution_count": 13,
   "metadata": {
    "autoscroll": "json-false",
    "collapsed": false,
    "ein.tags": [
     "worksheet-0"
    ],
    "slideshow": {
     "slide_type": "-"
    }
   },
   "outputs": [
    {
     "data": {
      "text/plain": [
       "array([[60507,     3],\n",
       "       [    3, 60507],\n",
       "       [60507,   356],\n",
       "       [60507,   160],\n",
       "       [   11,  3980],\n",
       "       [   11,     3]])"
      ]
     },
     "execution_count": 13,
     "metadata": {},
     "output_type": "execute_result"
    }
   ],
   "source": [
    "random.seed(2)\n",
    "next(generate_batches(skip_grams(read_wackypedia(), samples_per_target=2), batch_size=6))"
   ]
  },
  {
   "cell_type": "code",
   "execution_count": 16,
   "metadata": {
    "autoscroll": "json-false",
    "collapsed": false,
    "ein.tags": [
     "worksheet-0"
    ],
    "slideshow": {
     "slide_type": "-"
    }
   },
   "outputs": [],
   "source": [
    "class Word2Vec:\n",
    "\n",
    "    def __init__(self, vocabulary_size, embedding_size=300, negative_samples=16):\n",
    "        self.embeddings = tf.Variable(tf.random_uniform([vocabulary_size, embedding_size], -1.0, 1.0), name='embeddings')\n",
    "\n",
    "        with tf.name_scope('input'):\n",
    "            self.batch_inputs = tf.placeholder(tf.int32, shape=None)\n",
    "            self.batch_labels = tf.placeholder(tf.int32, shape=[None, 1])\n",
    "\n",
    "            self.batch_embeddings = tf.nn.embedding_lookup(self.embeddings, self.batch_inputs, name='embeddings')\n",
    "\n",
    "        with tf.name_scope('NCE'):\n",
    "            self.nce_weights = tf.Variable(\n",
    "                tf.truncated_normal([vocabulary_size, embedding_size], stddev=1.0 / np.sqrt(embedding_size)),\n",
    "                name='weights',\n",
    "            )\n",
    "            self.nce_biases = tf.Variable(tf.zeros([vocabulary_size]), name='biases')\n",
    "\n",
    "            self.loss = tf.reduce_mean(\n",
    "                tf.nn.nce_loss(\n",
    "                    weights=self.nce_weights,\n",
    "                    biases=self.nce_biases,\n",
    "                    labels=self.batch_labels,\n",
    "                    inputs=self.batch_embeddings,\n",
    "                    num_sampled=negative_samples,\n",
    "                    num_classes=vocabulary_size,\n",
    "                ),\n",
    "                name='loss',\n",
    "            )\n",
    "\n",
    "            self.global_step = tf.Variable(1, name='global_step', trainable=False)\n",
    "            #self.optimizer = tf.train.AdamOptimizer(1.0).minimize(self.loss, global_step=self.global_step)\n",
    "            self.optimizer = tf.train.GradientDescentOptimizer(1.0).minimize(self.loss, global_step=self.global_step)"
   ]
  },
  {
   "cell_type": "code",
   "execution_count": null,
   "metadata": {
    "autoscroll": "json-false",
    "collapsed": false,
    "ein.tags": [
     "worksheet-0"
    ],
    "scrolled": true,
    "slideshow": {
     "slide_type": "-"
    }
   },
   "outputs": [],
   "source": [
    "g = tf.Graph()\n",
    "ts = timestamp()\n",
    "log_dir = 'notebook_runs'\n",
    "metadata_path = os.path.join(log_dir, 'metadata.tsv')\n",
    "\n",
    "batch_size = 128\n",
    "\n",
    "with g.as_default():\n",
    "    w2v = Word2Vec(vocabulary_size, embedding_size=300)\n",
    "\n",
    "    init_op = tf.global_variables_initializer()\n",
    "\n",
    "    tf.summary.scalar(w2v.loss.op.name, w2v.loss)\n",
    "    summary_op = tf.summary.merge_all()\n",
    "\n",
    "    config = projector.ProjectorConfig()\n",
    "    projector_embedding = config.embeddings.add()\n",
    "    projector_embedding.tensor_name = w2v.embeddings.name\n",
    "    projector_embedding.metadata_path = metadata_path\n",
    "\n",
    "    saver = tf.train.Saver()\n",
    "\n",
    "with tf.Session(graph=g) as sess, \\\n",
    "     closing(tf.summary.FileWriter(os.path.join(log_dir, 'w2v-skipgram-{}'.format(ts)), sess.graph)) as train_summary_writer:\n",
    "\n",
    "    sess.run(init_op)\n",
    "    #saver.restore(sess, 'notebook_runs/model.ckpt-74737')\n",
    "\n",
    "    projector.visualize_embeddings(train_summary_writer, config)\n",
    "    \n",
    "    for epoch in range(10):\n",
    "        logger.info('Epoch: %s', epoch)\n",
    "\n",
    "        batches = generate_batches(\n",
    "            skip_grams(read_wackypedia(), samples_per_target=5),\n",
    "            batch_size=batch_size,\n",
    "        )\n",
    "\n",
    "        for i, batch in enumerate(batches):\n",
    "            if len(batch) != batch_size:\n",
    "                logger.debug('The batch size of %s is smaller than expected %s.', len(batch), batch_size)\n",
    "\n",
    "            x = batch[:, 0]\n",
    "            y = batch[:, 1, np.newaxis]\n",
    "\n",
    "            _, summary, current_step = sess.run(\n",
    "                [w2v.optimizer, summary_op, w2v.global_step],\n",
    "                feed_dict={\n",
    "                    w2v.batch_inputs: x,\n",
    "                    w2v.batch_labels: y,\n",
    "                },\n",
    "            )\n",
    "            train_summary_writer.add_summary(summary, current_step)\n",
    "            \n",
    "        logger.info('Step: %s, saving the model', current_step)\n",
    "        saver.save(sess, os.path.join(log_dir, \"model.ckpt\"), current_step)"
   ]
  },
  {
   "cell_type": "code",
   "execution_count": null,
   "metadata": {
    "collapsed": false
   },
   "outputs": [],
   "source": [
    "g = tf.Graph()\n",
    "\n",
    "with g.as_default():\n",
    "    w2v = Word2Vec(len(word_index), embedding_size=300)\n",
    "\n",
    "    column_a = tf.placeholder(tf.int32, shape=None, name='column_a')\n",
    "    column_b = tf.placeholder(tf.int32, shape=None, name='column_b')\n",
    "    \n",
    "    norm = tf.sqrt(tf.reduce_sum(tf.square(w2v.embeddings), 1, keep_dims=True), name='norm')\n",
    "    normalized_embeddings = w2v.embeddings / norm\n",
    "\n",
    "    embeddings_a = tf.nn.embedding_lookup(normalized_embeddings, column_a, name='embeddings_a')\n",
    "    embeddings_b = tf.nn.embedding_lookup(normalized_embeddings, column_b, name='embeddings_b')\n",
    "    \n",
    "    similarity = tf.reduce_sum(embeddings_a * embeddings_b, 1, keep_dims=True)\n",
    "    saver = tf.train.Saver()\n",
    "    \n",
    "with tf.Session(graph=g) as sess:\n",
    "    saver.restore(sess, 'notebook_runs/model.ckpt-74737')\n",
    "    \n",
    "    x = [word_index[w.encode()] for w in  simlex.index.get_level_values('word1')]\n",
    "    y = [word_index[w.encode()] for w in simlex.index.get_level_values('word2')]\n",
    "    \n",
    "    similarity_estimates = sess.run(similarity, feed_dict={column_a: x, column_b: y})\n",
    "similarity_estimates = pd.Series(similarity_estimates.flatten(), index=simlex.index, name='Word2Vec')"
   ]
  }
 ],
 "metadata": {
  "kernelspec": {
   "display_name": "Python 3",
   "language": "python",
   "name": "python3"
  },
  "language_info": {
   "codemirror_mode": {
    "name": "ipython",
    "version": 3
   },
   "file_extension": ".py",
   "mimetype": "text/x-python",
   "name": "python",
   "nbconvert_exporter": "python",
   "pygments_lexer": "ipython3",
   "version": "3.5.2"
  },
  "name": "02-text.ipynb"
 },
 "nbformat": 4,
 "nbformat_minor": 2
}
